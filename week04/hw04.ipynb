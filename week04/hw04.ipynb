{
 "cells": [
  {
   "cell_type": "markdown",
   "source": [
    "# Homework 04\n",
    "https://github.com/alexeygrigorev/mlbookcamp-code/blob/master/course-zoomcamp/cohorts/2022/04-evaluation/homework.md\n",
    "\n",
    "The goal of this homework is to inspect the output of different evaluation metrics by creating a classification model (target column card)."
   ],
   "metadata": {
    "collapsed": false
   }
  },
  {
   "cell_type": "code",
   "execution_count": 1,
   "metadata": {
    "collapsed": true
   },
   "outputs": [
    {
     "name": "stdout",
     "output_type": "stream",
     "text": [
      "--2022-10-03 20:24:45--  https://raw.githubusercontent.com/alexeygrigorev/datasets/master/AER_credit_card_data.csv\r\n",
      "Resolving raw.githubusercontent.com (raw.githubusercontent.com)... 185.199.110.133, 185.199.109.133, 185.199.108.133, ...\r\n",
      "Connecting to raw.githubusercontent.com (raw.githubusercontent.com)|185.199.110.133|:443... connected.\r\n",
      "HTTP request sent, awaiting response... 200 OK\r\n",
      "Length: 73250 (72K) [text/plain]\r\n",
      "Saving to: ‘AER_credit_card_data.csv’\r\n",
      "\r\n",
      "AER_credit_card_dat 100%[===================>]  71.53K  38.3KB/s    in 1.9s    \r\n",
      "\r\n",
      "2022-10-03 20:24:48 (38.3 KB/s) - ‘AER_credit_card_data.csv’ saved [73250/73250]\r\n",
      "\r\n"
     ]
    }
   ],
   "source": [
    "!wget https://raw.githubusercontent.com/alexeygrigorev/datasets/master/AER_credit_card_data.csv"
   ]
  },
  {
   "cell_type": "code",
   "execution_count": 22,
   "outputs": [],
   "source": [
    "import pandas as pd\n",
    "import numpy as np"
   ],
   "metadata": {
    "collapsed": false
   }
  },
  {
   "cell_type": "code",
   "execution_count": 23,
   "outputs": [],
   "source": [
    "df = pd.read_csv('AER_credit_card_data.csv')"
   ],
   "metadata": {
    "collapsed": false
   }
  },
  {
   "cell_type": "code",
   "execution_count": 24,
   "outputs": [
    {
     "data": {
      "text/plain": "                    0         1         2         3         4\ncard              yes       yes       yes       yes       yes\nreports             0         0         0         0         0\nage          37.66667     33.25  33.66667      30.5  32.16667\nincome           4.52      2.42       4.5      2.54    9.7867\nshare         0.03327  0.005217  0.004156  0.065214  0.067051\nexpenditure  124.9833  9.854167      15.0  137.8692  546.5033\nowner             yes        no       yes        no       yes\nselfemp            no        no        no        no        no\ndependents          3         3         4         0         2\nmonths             54        34        58        25        64\nmajorcards          1         1         1         1         1\nactive             12        13         5         7         5",
      "text/html": "<div>\n<style scoped>\n    .dataframe tbody tr th:only-of-type {\n        vertical-align: middle;\n    }\n\n    .dataframe tbody tr th {\n        vertical-align: top;\n    }\n\n    .dataframe thead th {\n        text-align: right;\n    }\n</style>\n<table border=\"1\" class=\"dataframe\">\n  <thead>\n    <tr style=\"text-align: right;\">\n      <th></th>\n      <th>0</th>\n      <th>1</th>\n      <th>2</th>\n      <th>3</th>\n      <th>4</th>\n    </tr>\n  </thead>\n  <tbody>\n    <tr>\n      <th>card</th>\n      <td>yes</td>\n      <td>yes</td>\n      <td>yes</td>\n      <td>yes</td>\n      <td>yes</td>\n    </tr>\n    <tr>\n      <th>reports</th>\n      <td>0</td>\n      <td>0</td>\n      <td>0</td>\n      <td>0</td>\n      <td>0</td>\n    </tr>\n    <tr>\n      <th>age</th>\n      <td>37.66667</td>\n      <td>33.25</td>\n      <td>33.66667</td>\n      <td>30.5</td>\n      <td>32.16667</td>\n    </tr>\n    <tr>\n      <th>income</th>\n      <td>4.52</td>\n      <td>2.42</td>\n      <td>4.5</td>\n      <td>2.54</td>\n      <td>9.7867</td>\n    </tr>\n    <tr>\n      <th>share</th>\n      <td>0.03327</td>\n      <td>0.005217</td>\n      <td>0.004156</td>\n      <td>0.065214</td>\n      <td>0.067051</td>\n    </tr>\n    <tr>\n      <th>expenditure</th>\n      <td>124.9833</td>\n      <td>9.854167</td>\n      <td>15.0</td>\n      <td>137.8692</td>\n      <td>546.5033</td>\n    </tr>\n    <tr>\n      <th>owner</th>\n      <td>yes</td>\n      <td>no</td>\n      <td>yes</td>\n      <td>no</td>\n      <td>yes</td>\n    </tr>\n    <tr>\n      <th>selfemp</th>\n      <td>no</td>\n      <td>no</td>\n      <td>no</td>\n      <td>no</td>\n      <td>no</td>\n    </tr>\n    <tr>\n      <th>dependents</th>\n      <td>3</td>\n      <td>3</td>\n      <td>4</td>\n      <td>0</td>\n      <td>2</td>\n    </tr>\n    <tr>\n      <th>months</th>\n      <td>54</td>\n      <td>34</td>\n      <td>58</td>\n      <td>25</td>\n      <td>64</td>\n    </tr>\n    <tr>\n      <th>majorcards</th>\n      <td>1</td>\n      <td>1</td>\n      <td>1</td>\n      <td>1</td>\n      <td>1</td>\n    </tr>\n    <tr>\n      <th>active</th>\n      <td>12</td>\n      <td>13</td>\n      <td>5</td>\n      <td>7</td>\n      <td>5</td>\n    </tr>\n  </tbody>\n</table>\n</div>"
     },
     "execution_count": 24,
     "metadata": {},
     "output_type": "execute_result"
    }
   ],
   "source": [
    "df.head().T"
   ],
   "metadata": {
    "collapsed": false
   }
  },
  {
   "cell_type": "code",
   "execution_count": 25,
   "outputs": [
    {
     "data": {
      "text/plain": "card              2\nreports          13\nage             418\nincome          431\nshare          1162\nexpenditure     981\nowner             2\nselfemp           2\ndependents        7\nmonths          193\nmajorcards        2\nactive           35\ndtype: int64"
     },
     "execution_count": 25,
     "metadata": {},
     "output_type": "execute_result"
    }
   ],
   "source": [
    "df.nunique()"
   ],
   "metadata": {
    "collapsed": false
   }
  },
  {
   "cell_type": "code",
   "execution_count": 26,
   "outputs": [
    {
     "data": {
      "text/plain": "Index(['card', 'reports', 'age', 'income', 'share', 'expenditure', 'owner',\n       'selfemp', 'dependents', 'months', 'majorcards', 'active'],\n      dtype='object')"
     },
     "execution_count": 26,
     "metadata": {},
     "output_type": "execute_result"
    }
   ],
   "source": [
    "df.columns"
   ],
   "metadata": {
    "collapsed": false
   }
  },
  {
   "cell_type": "code",
   "execution_count": 27,
   "outputs": [],
   "source": [
    "numerical = ['reports', 'age', 'income', 'share', 'expenditure', 'dependents', 'months', 'active']\n",
    "categorical = ['owner', 'selfemp', 'majorcards']"
   ],
   "metadata": {
    "collapsed": false
   }
  },
  {
   "cell_type": "code",
   "execution_count": 28,
   "outputs": [],
   "source": [
    "df['card_target'] = (df['card'] == 'yes').astype(int)"
   ],
   "metadata": {
    "collapsed": false
   }
  },
  {
   "cell_type": "code",
   "execution_count": 29,
   "outputs": [],
   "source": [
    "from sklearn.model_selection import train_test_split"
   ],
   "metadata": {
    "collapsed": false
   }
  },
  {
   "cell_type": "code",
   "execution_count": 30,
   "outputs": [],
   "source": [
    "df_full_train, df_test = train_test_split(df, test_size=0.2, random_state=1)\n",
    "df_train, df_val = train_test_split(df_full_train, test_size=0.25, random_state=1)"
   ],
   "metadata": {
    "collapsed": false
   }
  },
  {
   "cell_type": "code",
   "execution_count": 31,
   "outputs": [],
   "source": [
    "import matplotlib.pyplot as plt"
   ],
   "metadata": {
    "collapsed": false
   }
  },
  {
   "cell_type": "markdown",
   "source": [
    "## Question 01"
   ],
   "metadata": {
    "collapsed": false
   }
  },
  {
   "cell_type": "code",
   "execution_count": 48,
   "outputs": [],
   "source": [
    "from sklearn.metrics import roc_curve, auc"
   ],
   "metadata": {
    "collapsed": false
   }
  },
  {
   "cell_type": "code",
   "execution_count": 57,
   "outputs": [
    {
     "data": {
      "text/plain": "             0         1\n4  expenditure  0.991042\n3        share  0.989184\n0      reports  0.716663\n7       active  0.604317\n2       income  0.590805\n5   dependents  0.532776\n6       months  0.529422\n1          age  0.524002",
      "text/html": "<div>\n<style scoped>\n    .dataframe tbody tr th:only-of-type {\n        vertical-align: middle;\n    }\n\n    .dataframe tbody tr th {\n        vertical-align: top;\n    }\n\n    .dataframe thead th {\n        text-align: right;\n    }\n</style>\n<table border=\"1\" class=\"dataframe\">\n  <thead>\n    <tr style=\"text-align: right;\">\n      <th></th>\n      <th>0</th>\n      <th>1</th>\n    </tr>\n  </thead>\n  <tbody>\n    <tr>\n      <th>4</th>\n      <td>expenditure</td>\n      <td>0.991042</td>\n    </tr>\n    <tr>\n      <th>3</th>\n      <td>share</td>\n      <td>0.989184</td>\n    </tr>\n    <tr>\n      <th>0</th>\n      <td>reports</td>\n      <td>0.716663</td>\n    </tr>\n    <tr>\n      <th>7</th>\n      <td>active</td>\n      <td>0.604317</td>\n    </tr>\n    <tr>\n      <th>2</th>\n      <td>income</td>\n      <td>0.590805</td>\n    </tr>\n    <tr>\n      <th>5</th>\n      <td>dependents</td>\n      <td>0.532776</td>\n    </tr>\n    <tr>\n      <th>6</th>\n      <td>months</td>\n      <td>0.529422</td>\n    </tr>\n    <tr>\n      <th>1</th>\n      <td>age</td>\n      <td>0.524002</td>\n    </tr>\n  </tbody>\n</table>\n</div>"
     },
     "execution_count": 57,
     "metadata": {},
     "output_type": "execute_result"
    }
   ],
   "source": [
    "auc_list = []\n",
    "for var in numerical:\n",
    "    fpr, tpr, thresholds = roc_curve( df_train['card_target'], df_train[var])\n",
    "    if auc(fpr, tpr) < 0.5:\n",
    "        fpr, tpr, thresholds = roc_curve( df_train['card_target'], -df_train[var])\n",
    "    auc_list.append(auc(fpr, tpr))\n",
    "pd.DataFrame(dict(zip(numerical, auc_list)).items()).sort_values(1, ascending=False)"
   ],
   "metadata": {
    "collapsed": false
   }
  },
  {
   "cell_type": "markdown",
   "source": [
    "## Question 02"
   ],
   "metadata": {
    "collapsed": false
   }
  },
  {
   "cell_type": "code",
   "execution_count": 58,
   "outputs": [],
   "source": [
    "features = [\"reports\", \"age\", \"income\", \"share\", \"expenditure\", \"dependents\", \"months\", \"majorcards\", \"active\", \"owner\", \"selfemp\"]"
   ],
   "metadata": {
    "collapsed": false
   }
  },
  {
   "cell_type": "code",
   "execution_count": 90,
   "outputs": [],
   "source": [
    "from sklearn.feature_extraction import DictVectorizer"
   ],
   "metadata": {
    "collapsed": false
   }
  },
  {
   "cell_type": "code",
   "execution_count": 91,
   "outputs": [],
   "source": [
    "dv = DictVectorizer(sparse=False)"
   ],
   "metadata": {
    "collapsed": false
   }
  },
  {
   "cell_type": "code",
   "execution_count": 92,
   "outputs": [],
   "source": [
    "train_dicts = df_train[features].to_dict(orient='records')"
   ],
   "metadata": {
    "collapsed": false
   }
  },
  {
   "cell_type": "code",
   "execution_count": 93,
   "outputs": [],
   "source": [
    "X_train = dv.fit_transform(train_dicts)\n",
    "y_train = df_train['card_target'].values"
   ],
   "metadata": {
    "collapsed": false
   }
  },
  {
   "cell_type": "code",
   "execution_count": 94,
   "outputs": [],
   "source": [
    "from sklearn.linear_model import LogisticRegression"
   ],
   "metadata": {
    "collapsed": false
   }
  },
  {
   "cell_type": "code",
   "execution_count": 95,
   "outputs": [],
   "source": [
    "model = LogisticRegression(solver='liblinear', C=1.0, max_iter=1000)"
   ],
   "metadata": {
    "collapsed": false
   }
  },
  {
   "cell_type": "code",
   "execution_count": 96,
   "outputs": [
    {
     "data": {
      "text/plain": "LogisticRegression(max_iter=1000, solver='liblinear')"
     },
     "execution_count": 96,
     "metadata": {},
     "output_type": "execute_result"
    }
   ],
   "source": [
    "model.fit(X_train, y_train)"
   ],
   "metadata": {
    "collapsed": false
   }
  },
  {
   "cell_type": "code",
   "execution_count": 97,
   "outputs": [],
   "source": [
    "val_dicts = df_val[features].to_dict(orient='records')\n",
    "X_val = dv.transform(val_dicts)\n",
    "y_val = df_val['card_target'].values"
   ],
   "metadata": {
    "collapsed": false
   }
  },
  {
   "cell_type": "code",
   "execution_count": 126,
   "outputs": [],
   "source": [
    "y_pred = model.predict_proba(X_val)[:,1]"
   ],
   "metadata": {
    "collapsed": false
   }
  },
  {
   "cell_type": "code",
   "execution_count": 127,
   "outputs": [],
   "source": [
    "fpr, tpr, thresholds = roc_curve(y_val, y_pred)"
   ],
   "metadata": {
    "collapsed": false
   }
  },
  {
   "cell_type": "code",
   "execution_count": 128,
   "outputs": [
    {
     "data": {
      "text/plain": "(array([0.        , 0.        , 0.        , 0.01886792, 0.01886792,\n        0.09433962, 0.09433962, 0.13207547, 0.13207547, 0.16981132,\n        0.16981132, 0.33962264, 0.33962264, 1.        ]),\n array([0.        , 0.84834123, 0.96682464, 0.96682464, 0.97156398,\n        0.97156398, 0.98104265, 0.98104265, 0.98578199, 0.98578199,\n        0.99526066, 0.99526066, 1.        , 1.        ]),\n array([2.00000000e+00, 1.00000000e+00, 9.62093642e-01, 8.47847217e-01,\n        4.15690738e-01, 3.02143316e-01, 2.32127974e-01, 1.71474287e-01,\n        1.70806367e-01, 1.52147659e-01, 1.38364922e-01, 9.82882887e-02,\n        7.08023525e-02, 1.17336215e-08]))"
     },
     "execution_count": 128,
     "metadata": {},
     "output_type": "execute_result"
    }
   ],
   "source": [
    "roc_curve(y_val, y_pred)"
   ],
   "metadata": {
    "collapsed": false
   }
  },
  {
   "cell_type": "code",
   "execution_count": 129,
   "outputs": [
    {
     "data": {
      "text/plain": "[<matplotlib.lines.Line2D at 0x7f07809b0100>]"
     },
     "execution_count": 129,
     "metadata": {},
     "output_type": "execute_result"
    },
    {
     "data": {
      "text/plain": "<Figure size 432x288 with 1 Axes>",
      "image/png": "[encoded data removed]"
     },
     "metadata": {},
     "output_type": "display_data"
    }
   ],
   "source": [
    "plt.plot(fpr, tpr)"
   ],
   "metadata": {
    "collapsed": false
   }
  },
  {
   "cell_type": "code",
   "execution_count": 130,
   "outputs": [
    {
     "data": {
      "text/plain": "0.995"
     },
     "execution_count": 130,
     "metadata": {},
     "output_type": "execute_result"
    }
   ],
   "source": [
    "auc(fpr, tpr).round(3)"
   ],
   "metadata": {
    "collapsed": false
   }
  },
  {
   "cell_type": "markdown",
   "source": [
    "## Questions 03, 04"
   ],
   "metadata": {
    "collapsed": false
   }
  },
  {
   "cell_type": "code",
   "execution_count": 131,
   "outputs": [],
   "source": [
    "from sklearn.metrics import accuracy_score"
   ],
   "metadata": {
    "collapsed": false
   }
  },
  {
   "cell_type": "code",
   "execution_count": 132,
   "outputs": [],
   "source": [
    "thresholds = np.linspace(0, 1, 101)"
   ],
   "metadata": {
    "collapsed": false
   }
  },
  {
   "cell_type": "code",
   "execution_count": 137,
   "outputs": [
    {
     "name": "stdout",
     "output_type": "stream",
     "text": [
      "0.00 0.799\n",
      "0.01 0.871\n",
      "0.02 0.883\n",
      "0.03 0.909\n",
      "0.04 0.917\n",
      "0.05 0.917\n",
      "0.06 0.928\n",
      "0.07 0.928\n",
      "0.08 0.928\n",
      "0.09 0.928\n",
      "0.10 0.932\n",
      "0.11 0.932\n",
      "0.12 0.932\n",
      "0.13 0.955\n",
      "0.14 0.955\n",
      "0.15 0.955\n",
      "0.16 0.962\n",
      "0.17 0.962\n",
      "0.18 0.962\n",
      "0.19 0.966\n",
      "0.20 0.966\n",
      "0.21 0.966\n",
      "0.22 0.966\n",
      "0.23 0.966\n",
      "0.24 0.962\n",
      "0.25 0.962\n",
      "0.26 0.962\n",
      "0.27 0.962\n",
      "0.28 0.962\n",
      "0.29 0.962\n",
      "0.30 0.958\n",
      "0.31 0.962\n",
      "0.32 0.962\n",
      "0.33 0.962\n",
      "0.34 0.970\n",
      "0.35 0.973\n",
      "0.36 0.973\n",
      "0.37 0.973\n",
      "0.38 0.973\n",
      "0.39 0.973\n",
      "0.40 0.973\n",
      "0.41 0.973\n",
      "0.42 0.970\n",
      "0.43 0.970\n",
      "0.44 0.970\n",
      "0.45 0.970\n",
      "0.46 0.970\n",
      "0.47 0.970\n",
      "0.48 0.970\n",
      "0.49 0.970\n",
      "0.50 0.970\n",
      "0.51 0.970\n",
      "0.52 0.970\n",
      "0.53 0.970\n",
      "0.54 0.970\n",
      "0.55 0.970\n",
      "0.56 0.970\n",
      "0.57 0.970\n",
      "0.58 0.970\n",
      "0.59 0.970\n",
      "0.60 0.970\n",
      "0.61 0.970\n",
      "0.62 0.970\n",
      "0.63 0.970\n",
      "0.64 0.970\n",
      "0.65 0.970\n",
      "0.66 0.970\n",
      "0.67 0.970\n",
      "0.68 0.970\n",
      "0.69 0.970\n",
      "0.70 0.970\n",
      "0.71 0.970\n",
      "0.72 0.970\n",
      "0.73 0.970\n",
      "0.74 0.970\n",
      "0.75 0.970\n",
      "0.76 0.970\n",
      "0.77 0.970\n",
      "0.78 0.970\n",
      "0.79 0.970\n",
      "0.80 0.970\n",
      "0.81 0.970\n",
      "0.82 0.970\n",
      "0.83 0.970\n",
      "0.84 0.970\n",
      "0.85 0.973\n",
      "0.86 0.973\n",
      "0.87 0.973\n",
      "0.88 0.973\n",
      "0.89 0.973\n",
      "0.90 0.973\n",
      "0.91 0.973\n",
      "0.92 0.973\n",
      "0.93 0.973\n",
      "0.94 0.973\n",
      "0.95 0.973\n",
      "0.96 0.973\n",
      "0.97 0.970\n",
      "0.98 0.970\n",
      "0.99 0.966\n",
      "1.00 0.879\n"
     ]
    }
   ],
   "source": [
    "scores = []\n",
    "\n",
    "for t in thresholds:\n",
    "    score = accuracy_score(y_val, y_pred >= t)\n",
    "    print('%.2f %.3f' % (t, score))\n",
    "    scores.append(score)"
   ],
   "metadata": {
    "collapsed": false
   }
  },
  {
   "cell_type": "code",
   "execution_count": 138,
   "outputs": [
    {
     "data": {
      "text/plain": "[<matplotlib.lines.Line2D at 0x7f078082f3a0>]"
     },
     "execution_count": 138,
     "metadata": {},
     "output_type": "execute_result"
    },
    {
     "data": {
      "text/plain": "<Figure size 432x288 with 1 Axes>",
      "image/png": "[encoded data removed]"
     },
     "metadata": {},
     "output_type": "display_data"
    }
   ],
   "source": [
    "plt.plot(thresholds, scores)"
   ],
   "metadata": {
    "collapsed": false
   }
  },
  {
   "cell_type": "code",
   "execution_count": 146,
   "outputs": [
    {
     "data": {
      "text/plain": "<matplotlib.legend.Legend at 0x7f07803edc40>"
     },
     "execution_count": 146,
     "metadata": {},
     "output_type": "execute_result"
    },
    {
     "data": {
      "text/plain": "<Figure size 432x288 with 1 Axes>",
      "image/png": "[encoded data removed]"
     },
     "metadata": {},
     "output_type": "display_data"
    }
   ],
   "source": [
    "scores0 = []\n",
    "\n",
    "thresholds = np.linspace(0, 1, 101)\n",
    "\n",
    "for t in thresholds:\n",
    "    actual_positive = (y_val == 1)\n",
    "    actual_negative = (y_val == 0)\n",
    "\n",
    "    predict_positive = (y_pred >= t)\n",
    "    predict_negative = (y_pred < t)\n",
    "\n",
    "    tp = (predict_positive & actual_positive).sum()\n",
    "    tn = (predict_negative & actual_negative).sum()\n",
    "\n",
    "    fp = (predict_positive & actual_negative).sum()\n",
    "    fn = (predict_negative & actual_positive).sum()\n",
    "\n",
    "    scores0.append((t, tp, fp, fn, tn))\n",
    "\n",
    "columns = ['threshold', 'tp', 'fp', 'fn', 'tn']\n",
    "df_scores = pd.DataFrame(scores0, columns=columns)\n",
    "\n",
    "df_scores['p'] = df_scores.tp / (df_scores.tp + df_scores.fp)\n",
    "df_scores['r'] = df_scores.tp / (df_scores.tp + df_scores.fn)\n",
    "df_scores['tpr'] = df_scores.tp / (df_scores.tp + df_scores.fn)\n",
    "df_scores['fpr'] = df_scores.fp / (df_scores.fp + df_scores.tn)\n",
    "df_scores['f1'] = 2 * ((df_scores.p * df_scores.r) / (df_scores.p + df_scores.r))\n",
    "\n",
    "plt.plot(df_scores.threshold, df_scores['p'], label='precision')\n",
    "plt.plot(df_scores.threshold, df_scores['r'], label='recall')\n",
    "plt.plot(df_scores.threshold, df_scores['f1'], label='F1')\n",
    "\n",
    "# plt.plot(df_scores.threshold, df_scores['tpr'], label='TPR')\n",
    "# plt.plot(df_scores.threshold, df_scores['fpr'], label='FPR')\n",
    "plt.legend()"
   ],
   "metadata": {
    "collapsed": false
   }
  },
  {
   "cell_type": "code",
   "execution_count": 140,
   "outputs": [
    {
     "data": {
      "text/plain": "     threshold   tp  fp  fn  tn       tpr       fpr\n0         0.00  211  53   0   0  1.000000  1.000000\n1         0.01  211  34   0  19  1.000000  0.641509\n2         0.02  211  31   0  22  1.000000  0.584906\n3         0.03  211  24   0  29  1.000000  0.452830\n4         0.04  211  22   0  31  1.000000  0.415094\n..         ...  ...  ..  ..  ..       ...       ...\n96        0.96  204   0   7  53  0.966825  0.000000\n97        0.97  203   0   8  53  0.962085  0.000000\n98        0.98  203   0   8  53  0.962085  0.000000\n99        0.99  202   0   9  53  0.957346  0.000000\n100       1.00  179   0  32  53  0.848341  0.000000\n\n[101 rows x 7 columns]",
      "text/html": "<div>\n<style scoped>\n    .dataframe tbody tr th:only-of-type {\n        vertical-align: middle;\n    }\n\n    .dataframe tbody tr th {\n        vertical-align: top;\n    }\n\n    .dataframe thead th {\n        text-align: right;\n    }\n</style>\n<table border=\"1\" class=\"dataframe\">\n  <thead>\n    <tr style=\"text-align: right;\">\n      <th></th>\n      <th>threshold</th>\n      <th>tp</th>\n      <th>fp</th>\n      <th>fn</th>\n      <th>tn</th>\n      <th>tpr</th>\n      <th>fpr</th>\n    </tr>\n  </thead>\n  <tbody>\n    <tr>\n      <th>0</th>\n      <td>0.00</td>\n      <td>211</td>\n      <td>53</td>\n      <td>0</td>\n      <td>0</td>\n      <td>1.000000</td>\n      <td>1.000000</td>\n    </tr>\n    <tr>\n      <th>1</th>\n      <td>0.01</td>\n      <td>211</td>\n      <td>34</td>\n      <td>0</td>\n      <td>19</td>\n      <td>1.000000</td>\n      <td>0.641509</td>\n    </tr>\n    <tr>\n      <th>2</th>\n      <td>0.02</td>\n      <td>211</td>\n      <td>31</td>\n      <td>0</td>\n      <td>22</td>\n      <td>1.000000</td>\n      <td>0.584906</td>\n    </tr>\n    <tr>\n      <th>3</th>\n      <td>0.03</td>\n      <td>211</td>\n      <td>24</td>\n      <td>0</td>\n      <td>29</td>\n      <td>1.000000</td>\n      <td>0.452830</td>\n    </tr>\n    <tr>\n      <th>4</th>\n      <td>0.04</td>\n      <td>211</td>\n      <td>22</td>\n      <td>0</td>\n      <td>31</td>\n      <td>1.000000</td>\n      <td>0.415094</td>\n    </tr>\n    <tr>\n      <th>...</th>\n      <td>...</td>\n      <td>...</td>\n      <td>...</td>\n      <td>...</td>\n      <td>...</td>\n      <td>...</td>\n      <td>...</td>\n    </tr>\n    <tr>\n      <th>96</th>\n      <td>0.96</td>\n      <td>204</td>\n      <td>0</td>\n      <td>7</td>\n      <td>53</td>\n      <td>0.966825</td>\n      <td>0.000000</td>\n    </tr>\n    <tr>\n      <th>97</th>\n      <td>0.97</td>\n      <td>203</td>\n      <td>0</td>\n      <td>8</td>\n      <td>53</td>\n      <td>0.962085</td>\n      <td>0.000000</td>\n    </tr>\n    <tr>\n      <th>98</th>\n      <td>0.98</td>\n      <td>203</td>\n      <td>0</td>\n      <td>8</td>\n      <td>53</td>\n      <td>0.962085</td>\n      <td>0.000000</td>\n    </tr>\n    <tr>\n      <th>99</th>\n      <td>0.99</td>\n      <td>202</td>\n      <td>0</td>\n      <td>9</td>\n      <td>53</td>\n      <td>0.957346</td>\n      <td>0.000000</td>\n    </tr>\n    <tr>\n      <th>100</th>\n      <td>1.00</td>\n      <td>179</td>\n      <td>0</td>\n      <td>32</td>\n      <td>53</td>\n      <td>0.848341</td>\n      <td>0.000000</td>\n    </tr>\n  </tbody>\n</table>\n<p>101 rows × 7 columns</p>\n</div>"
     },
     "execution_count": 140,
     "metadata": {},
     "output_type": "execute_result"
    }
   ],
   "source": [
    "df_scores"
   ],
   "metadata": {
    "collapsed": false
   }
  },
  {
   "cell_type": "markdown",
   "source": [
    "## Questions 5, 6"
   ],
   "metadata": {
    "collapsed": false
   }
  },
  {
   "cell_type": "code",
   "execution_count": 156,
   "outputs": [],
   "source": [
    "from sklearn.model_selection import KFold\n",
    "from sklearn.metrics import roc_auc_score"
   ],
   "metadata": {
    "collapsed": false
   }
  },
  {
   "cell_type": "code",
   "execution_count": 157,
   "outputs": [],
   "source": [
    "def train(df_train, y_train, C=1.0):\n",
    "    dicts = df_train[features].to_dict(orient='records')\n",
    "\n",
    "    dv = DictVectorizer(sparse=False)\n",
    "    X_train = dv.fit_transform(dicts)\n",
    "\n",
    "    model = LogisticRegression(solver='liblinear', C=C, max_iter=1000)\n",
    "    model.fit(X_train, y_train)\n",
    "\n",
    "    return dv, model\n",
    "\n",
    "def predict(df, dv, model):\n",
    "    dicts = df[features].to_dict(orient='records')\n",
    "\n",
    "    X = dv.transform(dicts)\n",
    "    y_pred = model.predict_proba(X)[:, 1]\n",
    "\n",
    "    return y_pred\n",
    "\n"
   ],
   "metadata": {
    "collapsed": false
   }
  },
  {
   "cell_type": "code",
   "execution_count": 159,
   "outputs": [
    {
     "name": "stdout",
     "output_type": "stream",
     "text": [
      "C=0.01 0.99188 +- 0.006\n",
      "C=0.1 0.99506 +- 0.004\n",
      "C=1 0.99645 +- 0.003\n",
      "C=10 0.99639 +- 0.003\n"
     ]
    }
   ],
   "source": [
    "n_splits = 5\n",
    "\n",
    "for C in [0.01, 0.1, 1, 10]:\n",
    "    kfold = KFold(n_splits=n_splits, shuffle=True, random_state=1)\n",
    "\n",
    "    scores = []\n",
    "\n",
    "    for train_idx, val_idx in kfold.split(df_full_train):\n",
    "        df_train = df_full_train.iloc[train_idx]\n",
    "        df_val = df_full_train.iloc[val_idx]\n",
    "\n",
    "        y_train = df_train.card_target.values\n",
    "        y_val = df_val.card_target.values\n",
    "\n",
    "        dv, model = train(df_train, y_train, C=C)\n",
    "        y_pred = predict(df_val, dv, model)\n",
    "\n",
    "        auc = roc_auc_score(y_val, y_pred)\n",
    "        scores.append(auc)\n",
    "\n",
    "    print('C=%s %.5f +- %.3f' % (C, np.mean(scores), np.std(scores)))\n",
    "\n"
   ],
   "metadata": {
    "collapsed": false
   }
  }
 ],
 "metadata": {
  "kernelspec": {
   "display_name": "Python 3",
   "language": "python",
   "name": "python3"
  },
  "language_info": {
   "codemirror_mode": {
    "name": "ipython",
    "version": 2
   },
   "file_extension": ".py",
   "mimetype": "text/x-python",
   "name": "python",
   "nbconvert_exporter": "python",
   "pygments_lexer": "ipython2",
   "version": "2.7.6"
  }
 },
 "nbformat": 4,
 "nbformat_minor": 0
}
