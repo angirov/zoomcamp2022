{
 "cells": [
  {
   "cell_type": "markdown",
   "source": [
    "# Homework 02\n",
    "https://github.com/alexeygrigorev/mlbookcamp-code/blob/master/course-zoomcamp/cohorts/2022/02-regression/homework.md"
   ],
   "metadata": {
    "collapsed": false
   }
  },
  {
   "cell_type": "code",
   "execution_count": 1,
   "metadata": {
    "collapsed": true
   },
   "outputs": [
    {
     "name": "stdout",
     "output_type": "stream",
     "text": [
      "--2022-09-17 14:44:13--  https://raw.githubusercontent.com/alexeygrigorev/datasets/master/housing.csv\r\n",
      "Resolving raw.githubusercontent.com (raw.githubusercontent.com)... 2606:50c0:8000::154, 2606:50c0:8002::154, 2606:50c0:8001::154, ...\r\n",
      "Connecting to raw.githubusercontent.com (raw.githubusercontent.com)|2606:50c0:8000::154|:443... connected.\r\n",
      "HTTP request sent, awaiting response... 200 OK\r\n",
      "Length: 1423529 (1.4M) [text/plain]\r\n",
      "Saving to: ‘housing.csv’\r\n",
      "\r\n",
      "housing.csv         100%[===================>]   1.36M  --.-KB/s    in 0.1s    \r\n",
      "\r\n",
      "2022-09-17 14:44:14 (9.61 MB/s) - ‘housing.csv’ saved [1423529/1423529]\r\n",
      "\r\n"
     ]
    }
   ],
   "source": [
    "!wget https://raw.githubusercontent.com/alexeygrigorev/datasets/master/housing.csv"
   ]
  },
  {
   "cell_type": "code",
   "execution_count": 5,
   "outputs": [],
   "source": [
    "import numpy as np\n",
    "import pandas as pd\n",
    "import matplotlib.pyplot as plt"
   ],
   "metadata": {
    "collapsed": false
   }
  },
  {
   "cell_type": "code",
   "execution_count": 6,
   "outputs": [],
   "source": [
    "df = pd.read_csv(\"housing.csv\")"
   ],
   "metadata": {
    "collapsed": false
   }
  },
  {
   "cell_type": "code",
   "execution_count": 7,
   "outputs": [
    {
     "data": {
      "text/plain": "   longitude  latitude  housing_median_age  total_rooms  total_bedrooms  \\\n0    -122.23     37.88                41.0        880.0           129.0   \n1    -122.22     37.86                21.0       7099.0          1106.0   \n2    -122.24     37.85                52.0       1467.0           190.0   \n3    -122.25     37.85                52.0       1274.0           235.0   \n4    -122.25     37.85                52.0       1627.0           280.0   \n\n   population  households  median_income  median_house_value ocean_proximity  \n0       322.0       126.0         8.3252            452600.0        NEAR BAY  \n1      2401.0      1138.0         8.3014            358500.0        NEAR BAY  \n2       496.0       177.0         7.2574            352100.0        NEAR BAY  \n3       558.0       219.0         5.6431            341300.0        NEAR BAY  \n4       565.0       259.0         3.8462            342200.0        NEAR BAY  ",
      "text/html": "<div>\n<style scoped>\n    .dataframe tbody tr th:only-of-type {\n        vertical-align: middle;\n    }\n\n    .dataframe tbody tr th {\n        vertical-align: top;\n    }\n\n    .dataframe thead th {\n        text-align: right;\n    }\n</style>\n<table border=\"1\" class=\"dataframe\">\n  <thead>\n    <tr style=\"text-align: right;\">\n      <th></th>\n      <th>longitude</th>\n      <th>latitude</th>\n      <th>housing_median_age</th>\n      <th>total_rooms</th>\n      <th>total_bedrooms</th>\n      <th>population</th>\n      <th>households</th>\n      <th>median_income</th>\n      <th>median_house_value</th>\n      <th>ocean_proximity</th>\n    </tr>\n  </thead>\n  <tbody>\n    <tr>\n      <th>0</th>\n      <td>-122.23</td>\n      <td>37.88</td>\n      <td>41.0</td>\n      <td>880.0</td>\n      <td>129.0</td>\n      <td>322.0</td>\n      <td>126.0</td>\n      <td>8.3252</td>\n      <td>452600.0</td>\n      <td>NEAR BAY</td>\n    </tr>\n    <tr>\n      <th>1</th>\n      <td>-122.22</td>\n      <td>37.86</td>\n      <td>21.0</td>\n      <td>7099.0</td>\n      <td>1106.0</td>\n      <td>2401.0</td>\n      <td>1138.0</td>\n      <td>8.3014</td>\n      <td>358500.0</td>\n      <td>NEAR BAY</td>\n    </tr>\n    <tr>\n      <th>2</th>\n      <td>-122.24</td>\n      <td>37.85</td>\n      <td>52.0</td>\n      <td>1467.0</td>\n      <td>190.0</td>\n      <td>496.0</td>\n      <td>177.0</td>\n      <td>7.2574</td>\n      <td>352100.0</td>\n      <td>NEAR BAY</td>\n    </tr>\n    <tr>\n      <th>3</th>\n      <td>-122.25</td>\n      <td>37.85</td>\n      <td>52.0</td>\n      <td>1274.0</td>\n      <td>235.0</td>\n      <td>558.0</td>\n      <td>219.0</td>\n      <td>5.6431</td>\n      <td>341300.0</td>\n      <td>NEAR BAY</td>\n    </tr>\n    <tr>\n      <th>4</th>\n      <td>-122.25</td>\n      <td>37.85</td>\n      <td>52.0</td>\n      <td>1627.0</td>\n      <td>280.0</td>\n      <td>565.0</td>\n      <td>259.0</td>\n      <td>3.8462</td>\n      <td>342200.0</td>\n      <td>NEAR BAY</td>\n    </tr>\n  </tbody>\n</table>\n</div>"
     },
     "execution_count": 7,
     "metadata": {},
     "output_type": "execute_result"
    }
   ],
   "source": [
    "df.head()"
   ],
   "metadata": {
    "collapsed": false
   }
  },
  {
   "cell_type": "code",
   "execution_count": 8,
   "outputs": [
    {
     "data": {
      "text/plain": "<AxesSubplot:>"
     },
     "execution_count": 8,
     "metadata": {},
     "output_type": "execute_result"
    },
    {
     "data": {
      "text/plain": "<Figure size 432x288 with 1 Axes>",
      "image/png": "[encoded data removed]"
     },
     "metadata": {},
     "output_type": "display_data"
    }
   ],
   "source": [
    "df[\"median_house_value\"].hist()"
   ],
   "metadata": {
    "collapsed": false
   }
  },
  {
   "cell_type": "code",
   "execution_count": 9,
   "outputs": [],
   "source": [
    "housing = df[[\n",
    "    'latitude',\n",
    "    'longitude',\n",
    "    'housing_median_age',\n",
    "    'total_rooms',\n",
    "    'total_bedrooms',\n",
    "    'population',\n",
    "    'households',\n",
    "    'median_income',\n",
    "    'median_house_value'\n",
    "]]"
   ],
   "metadata": {
    "collapsed": false
   }
  },
  {
   "cell_type": "code",
   "execution_count": 10,
   "outputs": [
    {
     "data": {
      "text/plain": "   latitude  longitude  housing_median_age  total_rooms  total_bedrooms  \\\n0     37.88    -122.23                41.0        880.0           129.0   \n1     37.86    -122.22                21.0       7099.0          1106.0   \n2     37.85    -122.24                52.0       1467.0           190.0   \n3     37.85    -122.25                52.0       1274.0           235.0   \n4     37.85    -122.25                52.0       1627.0           280.0   \n\n   population  households  median_income  median_house_value  \n0       322.0       126.0         8.3252            452600.0  \n1      2401.0      1138.0         8.3014            358500.0  \n2       496.0       177.0         7.2574            352100.0  \n3       558.0       219.0         5.6431            341300.0  \n4       565.0       259.0         3.8462            342200.0  ",
      "text/html": "<div>\n<style scoped>\n    .dataframe tbody tr th:only-of-type {\n        vertical-align: middle;\n    }\n\n    .dataframe tbody tr th {\n        vertical-align: top;\n    }\n\n    .dataframe thead th {\n        text-align: right;\n    }\n</style>\n<table border=\"1\" class=\"dataframe\">\n  <thead>\n    <tr style=\"text-align: right;\">\n      <th></th>\n      <th>latitude</th>\n      <th>longitude</th>\n      <th>housing_median_age</th>\n      <th>total_rooms</th>\n      <th>total_bedrooms</th>\n      <th>population</th>\n      <th>households</th>\n      <th>median_income</th>\n      <th>median_house_value</th>\n    </tr>\n  </thead>\n  <tbody>\n    <tr>\n      <th>0</th>\n      <td>37.88</td>\n      <td>-122.23</td>\n      <td>41.0</td>\n      <td>880.0</td>\n      <td>129.0</td>\n      <td>322.0</td>\n      <td>126.0</td>\n      <td>8.3252</td>\n      <td>452600.0</td>\n    </tr>\n    <tr>\n      <th>1</th>\n      <td>37.86</td>\n      <td>-122.22</td>\n      <td>21.0</td>\n      <td>7099.0</td>\n      <td>1106.0</td>\n      <td>2401.0</td>\n      <td>1138.0</td>\n      <td>8.3014</td>\n      <td>358500.0</td>\n    </tr>\n    <tr>\n      <th>2</th>\n      <td>37.85</td>\n      <td>-122.24</td>\n      <td>52.0</td>\n      <td>1467.0</td>\n      <td>190.0</td>\n      <td>496.0</td>\n      <td>177.0</td>\n      <td>7.2574</td>\n      <td>352100.0</td>\n    </tr>\n    <tr>\n      <th>3</th>\n      <td>37.85</td>\n      <td>-122.25</td>\n      <td>52.0</td>\n      <td>1274.0</td>\n      <td>235.0</td>\n      <td>558.0</td>\n      <td>219.0</td>\n      <td>5.6431</td>\n      <td>341300.0</td>\n    </tr>\n    <tr>\n      <th>4</th>\n      <td>37.85</td>\n      <td>-122.25</td>\n      <td>52.0</td>\n      <td>1627.0</td>\n      <td>280.0</td>\n      <td>565.0</td>\n      <td>259.0</td>\n      <td>3.8462</td>\n      <td>342200.0</td>\n    </tr>\n  </tbody>\n</table>\n</div>"
     },
     "execution_count": 10,
     "metadata": {},
     "output_type": "execute_result"
    }
   ],
   "source": [
    "housing.head()"
   ],
   "metadata": {
    "collapsed": false
   }
  },
  {
   "cell_type": "code",
   "execution_count": 11,
   "outputs": [
    {
     "data": {
      "text/plain": "latitude                0\nlongitude               0\nhousing_median_age      0\ntotal_rooms             0\ntotal_bedrooms        207\npopulation              0\nhouseholds              0\nmedian_income           0\nmedian_house_value      0\ndtype: int64"
     },
     "execution_count": 11,
     "metadata": {},
     "output_type": "execute_result"
    }
   ],
   "source": [
    "housing.isnull().sum()"
   ],
   "metadata": {
    "collapsed": false
   }
  },
  {
   "cell_type": "code",
   "execution_count": 12,
   "outputs": [
    {
     "data": {
      "text/plain": "1166.0"
     },
     "execution_count": 12,
     "metadata": {},
     "output_type": "execute_result"
    }
   ],
   "source": [
    "housing[\"population\"].median()"
   ],
   "metadata": {
    "collapsed": false
   }
  },
  {
   "cell_type": "code",
   "execution_count": 13,
   "outputs": [],
   "source": [
    "np.random.seed(42)"
   ],
   "metadata": {
    "collapsed": false
   }
  },
  {
   "cell_type": "code",
   "execution_count": 14,
   "outputs": [],
   "source": [
    "m =len(housing)\n",
    "idx = np.arange(m)\n",
    "np.random.shuffle(idx)"
   ],
   "metadata": {
    "collapsed": false
   }
  },
  {
   "cell_type": "code",
   "execution_count": 15,
   "outputs": [],
   "source": [
    "m_val = int(m * 0.2)\n",
    "m_test = int(m * 0.2)\n",
    "m_train = m - m_val - m_test"
   ],
   "metadata": {
    "collapsed": false
   }
  },
  {
   "cell_type": "code",
   "execution_count": 16,
   "outputs": [
    {
     "data": {
      "text/plain": "True"
     },
     "execution_count": 16,
     "metadata": {},
     "output_type": "execute_result"
    }
   ],
   "source": [
    "m == m_val + m_test + m_train"
   ],
   "metadata": {
    "collapsed": false
   }
  },
  {
   "cell_type": "code",
   "execution_count": 17,
   "outputs": [],
   "source": [
    "housing_train = housing.iloc[idx[:m_train]]\n",
    "housing_val = housing.iloc[idx[m_train:m_train+m_val]]\n",
    "housing_test = housing.iloc[idx[m_train+m_val:]]"
   ],
   "metadata": {
    "collapsed": false
   }
  },
  {
   "cell_type": "code",
   "execution_count": 18,
   "outputs": [],
   "source": [
    "housing_train = housing_train.reset_index(drop=True)\n",
    "housing_val = housing_val.reset_index(drop=True)\n",
    "housing_test = housing_test.reset_index(drop=True)"
   ],
   "metadata": {
    "collapsed": false
   }
  },
  {
   "cell_type": "code",
   "execution_count": 19,
   "outputs": [],
   "source": [
    "y_train = housing_train[\"median_house_value\"]\n",
    "y_val = housing_val[\"median_house_value\"]\n",
    "y_test = housing_test[\"median_house_value\"]"
   ],
   "metadata": {
    "collapsed": false
   }
  },
  {
   "cell_type": "code",
   "execution_count": 20,
   "outputs": [],
   "source": [
    "del housing_train[\"median_house_value\"]\n",
    "del housing_val[\"median_house_value\"]\n",
    "del housing_test[\"median_house_value\"]"
   ],
   "metadata": {
    "collapsed": false
   }
  },
  {
   "cell_type": "code",
   "execution_count": 21,
   "outputs": [],
   "source": [
    "y_train = np.log1p(y_train)\n",
    "y_val = np.log1p(y_val)\n",
    "y_test = np.log1p(y_test)"
   ],
   "metadata": {
    "collapsed": false
   }
  },
  {
   "cell_type": "code",
   "execution_count": 22,
   "outputs": [
    {
     "data": {
      "text/plain": "<AxesSubplot:>"
     },
     "execution_count": 22,
     "metadata": {},
     "output_type": "execute_result"
    },
    {
     "data": {
      "text/plain": "<Figure size 432x288 with 1 Axes>",
      "image/png": "[encoded data removed]"
     },
     "metadata": {},
     "output_type": "display_data"
    }
   ],
   "source": [
    "y_val.hist()"
   ],
   "metadata": {
    "collapsed": false
   }
  },
  {
   "cell_type": "code",
   "execution_count": 23,
   "outputs": [],
   "source": [
    "total_bedrooms_median = housing_train[\"total_bedrooms\"].median()"
   ],
   "metadata": {
    "collapsed": false
   }
  },
  {
   "cell_type": "code",
   "execution_count": 24,
   "outputs": [],
   "source": [
    "housing_train_fill_zero = housing_train.fillna(0)"
   ],
   "metadata": {
    "collapsed": false
   }
  },
  {
   "cell_type": "code",
   "execution_count": 25,
   "outputs": [],
   "source": [
    "housing_train_fill_median = housing_train.fillna(total_bedrooms_median)"
   ],
   "metadata": {
    "collapsed": false
   }
  },
  {
   "cell_type": "code",
   "execution_count": 26,
   "outputs": [],
   "source": [
    "def train_linear_regression(X, y):\n",
    "    ones = np.ones(X.shape[0])\n",
    "    X = np.column_stack([ones, X])\n",
    "\n",
    "    XTX = X.T.dot(X)\n",
    "    XTX_inv = np.linalg.inv(XTX)\n",
    "    w_full = XTX_inv.dot(X.T).dot(y)\n",
    "\n",
    "    return w_full[0], w_full[1:]"
   ],
   "metadata": {
    "collapsed": false
   }
  },
  {
   "cell_type": "code",
   "execution_count": 27,
   "outputs": [],
   "source": [
    "w0_z, w_z = train_linear_regression(housing_train_fill_zero, y_train)"
   ],
   "metadata": {
    "collapsed": false
   }
  },
  {
   "cell_type": "code",
   "execution_count": 28,
   "outputs": [],
   "source": [
    "w0_m, w_m = train_linear_regression(housing_train_fill_median, y_train)"
   ],
   "metadata": {
    "collapsed": false
   }
  },
  {
   "cell_type": "code",
   "execution_count": 29,
   "outputs": [],
   "source": [
    "y_pred_z = w0_z + housing_val.dot(w_z)"
   ],
   "metadata": {
    "collapsed": false
   }
  },
  {
   "cell_type": "code",
   "execution_count": 30,
   "outputs": [],
   "source": [
    "y_pred_m = w0_m + housing_val.dot(w_m)"
   ],
   "metadata": {
    "collapsed": false
   }
  },
  {
   "cell_type": "code",
   "execution_count": 31,
   "outputs": [],
   "source": [
    "import seaborn as sns"
   ],
   "metadata": {
    "collapsed": false
   }
  },
  {
   "cell_type": "code",
   "execution_count": 32,
   "outputs": [
    {
     "data": {
      "text/plain": "<AxesSubplot:xlabel='median_house_value', ylabel='Count'>"
     },
     "execution_count": 32,
     "metadata": {},
     "output_type": "execute_result"
    },
    {
     "data": {
      "text/plain": "<Figure size 432x288 with 1 Axes>",
      "image/png": "[encoded data removed]"
     },
     "metadata": {},
     "output_type": "display_data"
    }
   ],
   "source": [
    "sns.histplot(y_pred_z, color=\"yellow\", alpha=0.5, bins=50)\n",
    "sns.histplot(y_pred_m, color=\"red\", alpha=0.5, bins=50)\n",
    "sns.histplot(y_val, color=\"blue\", alpha=0.5, bins=50)"
   ],
   "metadata": {
    "collapsed": false
   }
  },
  {
   "cell_type": "code",
   "execution_count": 33,
   "outputs": [],
   "source": [
    "def rmse(y, y_pred):\n",
    "    se = (y - y_pred) ** 2\n",
    "    mse = se.mean()\n",
    "    return np.sqrt(mse)"
   ],
   "metadata": {
    "collapsed": false
   }
  },
  {
   "cell_type": "code",
   "execution_count": 34,
   "outputs": [
    {
     "data": {
      "text/plain": "(0.3295330365233302, 0.3290501842140677)"
     },
     "execution_count": 34,
     "metadata": {},
     "output_type": "execute_result"
    }
   ],
   "source": [
    "rmse(y_val, y_pred_z), rmse(y_val, y_pred_m)"
   ],
   "metadata": {
    "collapsed": false
   }
  },
  {
   "cell_type": "code",
   "execution_count": 214,
   "outputs": [
    {
     "data": {
      "text/plain": "True"
     },
     "execution_count": 214,
     "metadata": {},
     "output_type": "execute_result"
    }
   ],
   "source": [
    "round(rmse(y_val, y_pred_z), 2) == round(rmse(y_val, y_pred_m), 2)"
   ],
   "metadata": {
    "collapsed": false
   }
  },
  {
   "cell_type": "code",
   "execution_count": 215,
   "outputs": [],
   "source": [
    "def train_linear_regression_reg(X, y, r=0.001):\n",
    "    ones = np.ones(X.shape[0])\n",
    "    X = np.column_stack([ones, X])\n",
    "\n",
    "    XTX = X.T.dot(X)\n",
    "    XTX = XTX + r * np.eye(XTX.shape[0])\n",
    "\n",
    "    XTX_inv = np.linalg.inv(XTX)\n",
    "    w_full = XTX_inv.dot(X.T).dot(y)\n",
    "\n",
    "    return w_full[0], w_full[1:]"
   ],
   "metadata": {
    "collapsed": false
   }
  },
  {
   "cell_type": "code",
   "execution_count": 216,
   "outputs": [],
   "source": [
    "resluts = {}\n",
    "for r in [0, 0.000001, 0.0001, 0.001, 0.01, 0.1, 1, 5, 10]:\n",
    "    w0, w = train_linear_regression_reg(housing_train_fill_zero, y_train, r)\n",
    "    pred = w0 + housing_val.dot(w)\n",
    "    resluts[r] = rmse(y_val, pred)"
   ],
   "metadata": {
    "collapsed": false
   }
  },
  {
   "cell_type": "code",
   "execution_count": 217,
   "outputs": [],
   "source": [
    "res_df = pd.DataFrame.from_dict(resluts, orient='index', columns=[\"rmse\"])"
   ],
   "metadata": {
    "collapsed": false
   }
  },
  {
   "cell_type": "code",
   "execution_count": 218,
   "outputs": [
    {
     "data": {
      "text/plain": "               rmse\n0.010000   0.329532\n0.001000   0.329533\n0.000100   0.329533\n0.000001   0.329533\n0.000000   0.329533\n0.100000   0.329695\n1.000000   0.333789\n5.000000   0.339249\n10.000000  0.340606",
      "text/html": "<div>\n<style scoped>\n    .dataframe tbody tr th:only-of-type {\n        vertical-align: middle;\n    }\n\n    .dataframe tbody tr th {\n        vertical-align: top;\n    }\n\n    .dataframe thead th {\n        text-align: right;\n    }\n</style>\n<table border=\"1\" class=\"dataframe\">\n  <thead>\n    <tr style=\"text-align: right;\">\n      <th></th>\n      <th>rmse</th>\n    </tr>\n  </thead>\n  <tbody>\n    <tr>\n      <th>0.010000</th>\n      <td>0.329532</td>\n    </tr>\n    <tr>\n      <th>0.001000</th>\n      <td>0.329533</td>\n    </tr>\n    <tr>\n      <th>0.000100</th>\n      <td>0.329533</td>\n    </tr>\n    <tr>\n      <th>0.000001</th>\n      <td>0.329533</td>\n    </tr>\n    <tr>\n      <th>0.000000</th>\n      <td>0.329533</td>\n    </tr>\n    <tr>\n      <th>0.100000</th>\n      <td>0.329695</td>\n    </tr>\n    <tr>\n      <th>1.000000</th>\n      <td>0.333789</td>\n    </tr>\n    <tr>\n      <th>5.000000</th>\n      <td>0.339249</td>\n    </tr>\n    <tr>\n      <th>10.000000</th>\n      <td>0.340606</td>\n    </tr>\n  </tbody>\n</table>\n</div>"
     },
     "execution_count": 218,
     "metadata": {},
     "output_type": "execute_result"
    }
   ],
   "source": [
    "res_df.sort_values(\"rmse\")"
   ],
   "metadata": {
    "collapsed": false
   }
  },
  {
   "cell_type": "code",
   "execution_count": 219,
   "outputs": [
    {
     "data": {
      "text/plain": "           r      rmse\n4   0.010000  0.329532\n3   0.001000  0.329533\n2   0.000100  0.329533\n1   0.000001  0.329533\n0   0.000000  0.329533\n5   0.100000  0.329695\n6   1.000000  0.333789\n7   5.000000  0.339249\n8  10.000000  0.340606",
      "text/html": "<div>\n<style scoped>\n    .dataframe tbody tr th:only-of-type {\n        vertical-align: middle;\n    }\n\n    .dataframe tbody tr th {\n        vertical-align: top;\n    }\n\n    .dataframe thead th {\n        text-align: right;\n    }\n</style>\n<table border=\"1\" class=\"dataframe\">\n  <thead>\n    <tr style=\"text-align: right;\">\n      <th></th>\n      <th>r</th>\n      <th>rmse</th>\n    </tr>\n  </thead>\n  <tbody>\n    <tr>\n      <th>4</th>\n      <td>0.010000</td>\n      <td>0.329532</td>\n    </tr>\n    <tr>\n      <th>3</th>\n      <td>0.001000</td>\n      <td>0.329533</td>\n    </tr>\n    <tr>\n      <th>2</th>\n      <td>0.000100</td>\n      <td>0.329533</td>\n    </tr>\n    <tr>\n      <th>1</th>\n      <td>0.000001</td>\n      <td>0.329533</td>\n    </tr>\n    <tr>\n      <th>0</th>\n      <td>0.000000</td>\n      <td>0.329533</td>\n    </tr>\n    <tr>\n      <th>5</th>\n      <td>0.100000</td>\n      <td>0.329695</td>\n    </tr>\n    <tr>\n      <th>6</th>\n      <td>1.000000</td>\n      <td>0.333789</td>\n    </tr>\n    <tr>\n      <th>7</th>\n      <td>5.000000</td>\n      <td>0.339249</td>\n    </tr>\n    <tr>\n      <th>8</th>\n      <td>10.000000</td>\n      <td>0.340606</td>\n    </tr>\n  </tbody>\n</table>\n</div>"
     },
     "execution_count": 219,
     "metadata": {},
     "output_type": "execute_result"
    }
   ],
   "source": [
    "res_df0 = pd.DataFrame(resluts.items(), columns=['r', 'rmse'])\n",
    "res_df0.sort_values(\"rmse\")"
   ],
   "metadata": {
    "collapsed": false
   }
  },
  {
   "cell_type": "code",
   "execution_count": 251,
   "outputs": [],
   "source": [
    "def get_rmse(df_orig, seed, y_col, filler):\n",
    "    df = df_orig.copy()\n",
    "    np.random.seed(seed)\n",
    "\n",
    "    m = len(df)\n",
    "    idx = np.arange(m)\n",
    "    np.random.shuffle(idx)\n",
    "    m_val = int(m * 0.2)\n",
    "    m_test = int(m * 0.2)\n",
    "    m_train = m - m_val - m_test\n",
    "\n",
    "    df_train = df.iloc[idx[:m_train]]\n",
    "    df_val = df.iloc[idx[m_train:m_train + m_val]]\n",
    "    df_test = df.iloc[idx[m_train + m_val:]]\n",
    "\n",
    "    df_train = df_train.reset_index(drop=True)\n",
    "    df_val = df_val.reset_index(drop=True)\n",
    "    df_test = df_test.reset_index(drop=True)\n",
    "\n",
    "    y_train = df_train[y_col]\n",
    "    y_val = df_val[y_col]\n",
    "    y_test = df_test[y_col]\n",
    "\n",
    "    y_train = np.log1p(y_train)\n",
    "    y_val = np.log1p(y_val)\n",
    "    y_test = np.log1p(y_test)\n",
    "\n",
    "    del df_train[y_col]\n",
    "    del df_val[y_col]\n",
    "    del df_test[y_col]\n",
    "\n",
    "    df_train_fill_zero = df_train.fillna(0)\n",
    "    w0, w = train_linear_regression(df_train_fill_zero, y_train)\n",
    "    pred = w0 + df_val.dot(w)\n",
    "    return rmse(y_val, pred)"
   ],
   "metadata": {
    "collapsed": false
   }
  },
  {
   "cell_type": "code",
   "execution_count": 255,
   "outputs": [],
   "source": [
    "res_seed = {}\n",
    "\n",
    "for seed in [0, 1, 2, 3, 4, 5, 6, 7, 8, 9]:\n",
    "    res_seed[seed] = get_rmse(housing, seed, \"median_house_value\", 0)\n"
   ],
   "metadata": {
    "collapsed": false
   }
  },
  {
   "cell_type": "code",
   "execution_count": 256,
   "outputs": [],
   "source": [
    "res_seed_df = pd.DataFrame(res_seed.items(), columns=['seed', 'rmse'])"
   ],
   "metadata": {
    "collapsed": false
   }
  },
  {
   "cell_type": "code",
   "execution_count": 261,
   "outputs": [
    {
     "name": "stdout",
     "output_type": "stream",
     "text": [
      "0.004338750837488881 0.004\n"
     ]
    }
   ],
   "source": [
    "std = np.std(res_seed_df['rmse'])\n",
    "print(std, round(std, 3))"
   ],
   "metadata": {
    "collapsed": false
   }
  },
  {
   "cell_type": "markdown",
   "source": [
    "## Question 6\n",
    "Split the dataset like previously, use seed 9.\n",
    "Combine train and validation datasets.\n",
    "Fill the missing values with 0 and train a model with r=0.001.\n",
    "What's the RMSE on the test dataset?"
   ],
   "metadata": {
    "collapsed": false
   }
  },
  {
   "cell_type": "code",
   "execution_count": 258,
   "outputs": [],
   "source": [
    "def get_rmse_test(df_orig, seed, y_col, filler, r):\n",
    "    df = df_orig.copy()\n",
    "    np.random.seed(seed)\n",
    "    m = len(df)\n",
    "    idx = np.arange(m)\n",
    "    np.random.shuffle(idx)\n",
    "\n",
    "    m_val = int(m * 0.2)\n",
    "    m_test = int(m * 0.2)\n",
    "    m_train = m - m_val - m_test\n",
    "\n",
    "    df_train = df.iloc[idx[:m_train]]\n",
    "    df_val = df.iloc[idx[m_train:m_train + m_val]]\n",
    "    df_test = df.iloc[idx[m_train + m_val:]]\n",
    "\n",
    "    df_combine = pd.concat([df_train, df_val])\n",
    "\n",
    "    df_combine = df_combine.reset_index(drop=True)\n",
    "    df_test = df_test.reset_index(drop=True)\n",
    "\n",
    "    y_train = df_train[y_col]\n",
    "    y_val = df_val[y_col]\n",
    "    y_test = df_test[y_col]\n",
    "\n",
    "    y_combine = pd.concat([y_train, y_val])\n",
    "\n",
    "    y_combine = np.log1p(y_combine)\n",
    "    y_test = np.log1p(y_test)\n",
    "\n",
    "    del df_combine[y_col]\n",
    "    del df_test[y_col]\n",
    "\n",
    "    df_train_fill_zero = df_combine.fillna(0)\n",
    "    w0, w = train_linear_regression_reg(df_train_fill_zero, y_combine, r)\n",
    "    pred = w0 + df_test.dot(w)\n",
    "    return rmse(y_test, pred)"
   ],
   "metadata": {
    "collapsed": false
   }
  },
  {
   "cell_type": "code",
   "execution_count": 259,
   "outputs": [
    {
     "data": {
      "text/plain": "0.34516008528872244"
     },
     "execution_count": 259,
     "metadata": {},
     "output_type": "execute_result"
    }
   ],
   "source": [
    "get_rmse_test(housing, 9, \"median_house_value\", 0, 0.001)"
   ],
   "metadata": {
    "collapsed": false
   }
  },
  {
   "cell_type": "code",
   "execution_count": null,
   "outputs": [],
   "source": [],
   "metadata": {
    "collapsed": false
   }
  }
 ],
 "metadata": {
  "kernelspec": {
   "display_name": "Python 3",
   "language": "python",
   "name": "python3"
  },
  "language_info": {
   "codemirror_mode": {
    "name": "ipython",
    "version": 2
   },
   "file_extension": ".py",
   "mimetype": "text/x-python",
   "name": "python",
   "nbconvert_exporter": "python",
   "pygments_lexer": "ipython2",
   "version": "2.7.6"
  }
 },
 "nbformat": 4,
 "nbformat_minor": 0
}
